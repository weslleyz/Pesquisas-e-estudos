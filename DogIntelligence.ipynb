{
  "nbformat": 4,
  "nbformat_minor": 0,
  "metadata": {
    "colab": {
      "name": "DogIntelligence.ipynb",
      "provenance": []
    },
    "kernelspec": {
      "name": "python3",
      "display_name": "Python 3"
    },
    "language_info": {
      "name": "python"
    }
  },
  "cells": [
    {
      "cell_type": "markdown",
      "source": [
        "Analise sobre inteligencia canina \n",
        "Base de dados : https://www.kaggle.com/datasets/jasleensondhi/dog-intelligence-comparison-based-on-size?resource=download"
      ],
      "metadata": {
        "id": "k53XExjOX-hh"
      }
    },
    {
      "cell_type": "markdown",
      "source": [
        "**1- Importando os dados**"
      ],
      "metadata": {
        "id": "RySWHxPXZqZp"
      }
    },
    {
      "cell_type": "code",
      "source": [
        "import pandas as pd\n",
        "import matplotlib.pyplot as plt\n",
        "import seaborn as sns\n",
        "import statistics"
      ],
      "metadata": {
        "id": "ODqaGXJRYIbh"
      },
      "execution_count": null,
      "outputs": []
    },
    {
      "cell_type": "code",
      "source": [
        "base = pd.read_csv('/content/Dog Intelligence.csv', encoding='cp1252')\n",
        "base.head()"
      ],
      "metadata": {
        "colab": {
          "base_uri": "https://localhost:8080/",
          "height": 206
        },
        "id": "9NiuRTUDYLtK",
        "outputId": "19bc35eb-6c0d-4fed-fd4d-ccec1cb90c87"
      },
      "execution_count": null,
      "outputs": [
        {
          "output_type": "execute_result",
          "data": {
            "text/plain": [
              "                  Breed  height_low_inches  height_high_inches  \\\n",
              "0                 Akita               26.0                28.0   \n",
              "1     A0tolian Sheepdog               27.0                29.0   \n",
              "2  Bernese Mountain Dog               23.0                27.0   \n",
              "3            Bloodhound               24.0                26.0   \n",
              "4                Borzoi               26.0                28.0   \n",
              "\n",
              "   weight_low_lbs  weight_high_lbs  reps_lower  reps_upper  \n",
              "0              80              120         1.0         4.0  \n",
              "1             100              150         1.0         4.0  \n",
              "2              85              110         1.0         4.0  \n",
              "3              80              120         1.0         4.0  \n",
              "4              70              100         1.0         4.0  "
            ],
            "text/html": [
              "\n",
              "  <div id=\"df-f711c307-cf1a-478e-87bc-381ef938aa67\">\n",
              "    <div class=\"colab-df-container\">\n",
              "      <div>\n",
              "<style scoped>\n",
              "    .dataframe tbody tr th:only-of-type {\n",
              "        vertical-align: middle;\n",
              "    }\n",
              "\n",
              "    .dataframe tbody tr th {\n",
              "        vertical-align: top;\n",
              "    }\n",
              "\n",
              "    .dataframe thead th {\n",
              "        text-align: right;\n",
              "    }\n",
              "</style>\n",
              "<table border=\"1\" class=\"dataframe\">\n",
              "  <thead>\n",
              "    <tr style=\"text-align: right;\">\n",
              "      <th></th>\n",
              "      <th>Breed</th>\n",
              "      <th>height_low_inches</th>\n",
              "      <th>height_high_inches</th>\n",
              "      <th>weight_low_lbs</th>\n",
              "      <th>weight_high_lbs</th>\n",
              "      <th>reps_lower</th>\n",
              "      <th>reps_upper</th>\n",
              "    </tr>\n",
              "  </thead>\n",
              "  <tbody>\n",
              "    <tr>\n",
              "      <th>0</th>\n",
              "      <td>Akita</td>\n",
              "      <td>26.0</td>\n",
              "      <td>28.0</td>\n",
              "      <td>80</td>\n",
              "      <td>120</td>\n",
              "      <td>1.0</td>\n",
              "      <td>4.0</td>\n",
              "    </tr>\n",
              "    <tr>\n",
              "      <th>1</th>\n",
              "      <td>A0tolian Sheepdog</td>\n",
              "      <td>27.0</td>\n",
              "      <td>29.0</td>\n",
              "      <td>100</td>\n",
              "      <td>150</td>\n",
              "      <td>1.0</td>\n",
              "      <td>4.0</td>\n",
              "    </tr>\n",
              "    <tr>\n",
              "      <th>2</th>\n",
              "      <td>Bernese Mountain Dog</td>\n",
              "      <td>23.0</td>\n",
              "      <td>27.0</td>\n",
              "      <td>85</td>\n",
              "      <td>110</td>\n",
              "      <td>1.0</td>\n",
              "      <td>4.0</td>\n",
              "    </tr>\n",
              "    <tr>\n",
              "      <th>3</th>\n",
              "      <td>Bloodhound</td>\n",
              "      <td>24.0</td>\n",
              "      <td>26.0</td>\n",
              "      <td>80</td>\n",
              "      <td>120</td>\n",
              "      <td>1.0</td>\n",
              "      <td>4.0</td>\n",
              "    </tr>\n",
              "    <tr>\n",
              "      <th>4</th>\n",
              "      <td>Borzoi</td>\n",
              "      <td>26.0</td>\n",
              "      <td>28.0</td>\n",
              "      <td>70</td>\n",
              "      <td>100</td>\n",
              "      <td>1.0</td>\n",
              "      <td>4.0</td>\n",
              "    </tr>\n",
              "  </tbody>\n",
              "</table>\n",
              "</div>\n",
              "      <button class=\"colab-df-convert\" onclick=\"convertToInteractive('df-f711c307-cf1a-478e-87bc-381ef938aa67')\"\n",
              "              title=\"Convert this dataframe to an interactive table.\"\n",
              "              style=\"display:none;\">\n",
              "        \n",
              "  <svg xmlns=\"http://www.w3.org/2000/svg\" height=\"24px\"viewBox=\"0 0 24 24\"\n",
              "       width=\"24px\">\n",
              "    <path d=\"M0 0h24v24H0V0z\" fill=\"none\"/>\n",
              "    <path d=\"M18.56 5.44l.94 2.06.94-2.06 2.06-.94-2.06-.94-.94-2.06-.94 2.06-2.06.94zm-11 1L8.5 8.5l.94-2.06 2.06-.94-2.06-.94L8.5 2.5l-.94 2.06-2.06.94zm10 10l.94 2.06.94-2.06 2.06-.94-2.06-.94-.94-2.06-.94 2.06-2.06.94z\"/><path d=\"M17.41 7.96l-1.37-1.37c-.4-.4-.92-.59-1.43-.59-.52 0-1.04.2-1.43.59L10.3 9.45l-7.72 7.72c-.78.78-.78 2.05 0 2.83L4 21.41c.39.39.9.59 1.41.59.51 0 1.02-.2 1.41-.59l7.78-7.78 2.81-2.81c.8-.78.8-2.07 0-2.86zM5.41 20L4 18.59l7.72-7.72 1.47 1.35L5.41 20z\"/>\n",
              "  </svg>\n",
              "      </button>\n",
              "      \n",
              "  <style>\n",
              "    .colab-df-container {\n",
              "      display:flex;\n",
              "      flex-wrap:wrap;\n",
              "      gap: 12px;\n",
              "    }\n",
              "\n",
              "    .colab-df-convert {\n",
              "      background-color: #E8F0FE;\n",
              "      border: none;\n",
              "      border-radius: 50%;\n",
              "      cursor: pointer;\n",
              "      display: none;\n",
              "      fill: #1967D2;\n",
              "      height: 32px;\n",
              "      padding: 0 0 0 0;\n",
              "      width: 32px;\n",
              "    }\n",
              "\n",
              "    .colab-df-convert:hover {\n",
              "      background-color: #E2EBFA;\n",
              "      box-shadow: 0px 1px 2px rgba(60, 64, 67, 0.3), 0px 1px 3px 1px rgba(60, 64, 67, 0.15);\n",
              "      fill: #174EA6;\n",
              "    }\n",
              "\n",
              "    [theme=dark] .colab-df-convert {\n",
              "      background-color: #3B4455;\n",
              "      fill: #D2E3FC;\n",
              "    }\n",
              "\n",
              "    [theme=dark] .colab-df-convert:hover {\n",
              "      background-color: #434B5C;\n",
              "      box-shadow: 0px 1px 3px 1px rgba(0, 0, 0, 0.15);\n",
              "      filter: drop-shadow(0px 1px 2px rgba(0, 0, 0, 0.3));\n",
              "      fill: #FFFFFF;\n",
              "    }\n",
              "  </style>\n",
              "\n",
              "      <script>\n",
              "        const buttonEl =\n",
              "          document.querySelector('#df-f711c307-cf1a-478e-87bc-381ef938aa67 button.colab-df-convert');\n",
              "        buttonEl.style.display =\n",
              "          google.colab.kernel.accessAllowed ? 'block' : 'none';\n",
              "\n",
              "        async function convertToInteractive(key) {\n",
              "          const element = document.querySelector('#df-f711c307-cf1a-478e-87bc-381ef938aa67');\n",
              "          const dataTable =\n",
              "            await google.colab.kernel.invokeFunction('convertToInteractive',\n",
              "                                                     [key], {});\n",
              "          if (!dataTable) return;\n",
              "\n",
              "          const docLinkHtml = 'Like what you see? Visit the ' +\n",
              "            '<a target=\"_blank\" href=https://colab.research.google.com/notebooks/data_table.ipynb>data table notebook</a>'\n",
              "            + ' to learn more about interactive tables.';\n",
              "          element.innerHTML = '';\n",
              "          dataTable['output_type'] = 'display_data';\n",
              "          await google.colab.output.renderOutput(dataTable, element);\n",
              "          const docLink = document.createElement('div');\n",
              "          docLink.innerHTML = docLinkHtml;\n",
              "          element.appendChild(docLink);\n",
              "        }\n",
              "      </script>\n",
              "    </div>\n",
              "  </div>\n",
              "  "
            ]
          },
          "metadata": {},
          "execution_count": 61
        }
      ]
    },
    {
      "cell_type": "markdown",
      "source": [
        "**2- Conhecendo os dados**"
      ],
      "metadata": {
        "id": "GYz3GDyNZ5HZ"
      }
    },
    {
      "cell_type": "code",
      "source": [
        "base.shape"
      ],
      "metadata": {
        "colab": {
          "base_uri": "https://localhost:8080/"
        },
        "id": "7ZnWXZt5Z9td",
        "outputId": "8340847c-d848-4697-e296-d3e122d2afaa"
      },
      "execution_count": null,
      "outputs": [
        {
          "output_type": "execute_result",
          "data": {
            "text/plain": [
              "(150, 7)"
            ]
          },
          "metadata": {},
          "execution_count": 13
        }
      ]
    },
    {
      "cell_type": "code",
      "source": [
        "base.isna"
      ],
      "metadata": {
        "colab": {
          "base_uri": "https://localhost:8080/"
        },
        "id": "UxLl6Xqd-NGo",
        "outputId": "0e311041-803f-4944-e1ca-54f21fa7afea"
      },
      "execution_count": null,
      "outputs": [
        {
          "output_type": "execute_result",
          "data": {
            "text/plain": [
              "<bound method DataFrame.isna of                     Breed  height_low_inches  height_high_inches  \\\n",
              "0                   Akita               26.0                28.0   \n",
              "1       A0tolian Sheepdog               27.0                29.0   \n",
              "2    Bernese Mountain Dog               23.0                27.0   \n",
              "3              Bloodhound               24.0                26.0   \n",
              "4                  Borzoi               26.0                28.0   \n",
              "..                    ...                ...                 ...   \n",
              "145              Papillon                8.0                11.0   \n",
              "146            Pomeranian               12.0                12.0   \n",
              "147            Poodle Toy               10.0                10.0   \n",
              "148       Toy Fox Terrier               10.0                10.0   \n",
              "149     Yorkshire Terrier                8.0                 8.0   \n",
              "\n",
              "     weight_low_lbs  weight_high_lbs  reps_lower  reps_upper  height  \n",
              "0                80              120         1.0         4.0    27.0  \n",
              "1               100              150         1.0         4.0    28.0  \n",
              "2                85              110         1.0         4.0    25.0  \n",
              "3                80              120         1.0         4.0    25.0  \n",
              "4                70              100         1.0         4.0    27.0  \n",
              "..              ...              ...         ...         ...     ...  \n",
              "145               5               10         NaN         NaN     9.5  \n",
              "146               3                7         NaN         NaN    12.0  \n",
              "147              10               10         NaN         NaN    10.0  \n",
              "148               4                7         NaN         NaN    10.0  \n",
              "149               3                7         NaN         NaN     8.0  \n",
              "\n",
              "[150 rows x 8 columns]>"
            ]
          },
          "metadata": {},
          "execution_count": 29
        }
      ]
    },
    {
      "cell_type": "markdown",
      "source": [
        "**3- Tratando os dados**"
      ],
      "metadata": {
        "id": "9TnUnxVljB1h"
      }
    },
    {
      "cell_type": "markdown",
      "source": [
        "Removemos todos os Na e substituimos pela moda"
      ],
      "metadata": {
        "id": "tjZE2gcGApOd"
      }
    },
    {
      "cell_type": "code",
      "source": [
        "base['reps_lower'].mode()\n",
        "base['reps_lower'].fillna(26.0, inplace=True)\n",
        "base['reps_lower'].isna"
      ],
      "metadata": {
        "colab": {
          "base_uri": "https://localhost:8080/"
        },
        "id": "9jbc4iGl-dZY",
        "outputId": "75f2a9c3-d5e5-417f-decf-285eb60bd3fa"
      },
      "execution_count": null,
      "outputs": [
        {
          "output_type": "execute_result",
          "data": {
            "text/plain": [
              "<bound method Series.isna of 0       1.0\n",
              "1       1.0\n",
              "2       1.0\n",
              "3       1.0\n",
              "4       1.0\n",
              "       ... \n",
              "145    26.0\n",
              "146    26.0\n",
              "147    26.0\n",
              "148    26.0\n",
              "149    26.0\n",
              "Name: reps_lower, Length: 150, dtype: float64>"
            ]
          },
          "metadata": {},
          "execution_count": 62
        }
      ]
    },
    {
      "cell_type": "code",
      "source": [
        "base['reps_upper'].mode()\n",
        "base['reps_upper'].fillna(40.0, inplace=True)\n",
        "base['reps_upper'].isna"
      ],
      "metadata": {
        "colab": {
          "base_uri": "https://localhost:8080/"
        },
        "id": "DIntfJedAuUn",
        "outputId": "5a5f0b7d-c6e1-4c41-880a-bb4609a8b427"
      },
      "execution_count": null,
      "outputs": [
        {
          "output_type": "execute_result",
          "data": {
            "text/plain": [
              "<bound method Series.isna of 0       4.0\n",
              "1       4.0\n",
              "2       4.0\n",
              "3       4.0\n",
              "4       4.0\n",
              "       ... \n",
              "145    40.0\n",
              "146    40.0\n",
              "147    40.0\n",
              "148    40.0\n",
              "149    40.0\n",
              "Name: reps_upper, Length: 150, dtype: float64>"
            ]
          },
          "metadata": {},
          "execution_count": 63
        }
      ]
    },
    {
      "cell_type": "markdown",
      "source": [
        "**4- Efetuando a análise exploratória**"
      ],
      "metadata": {
        "id": "8dQgcs84jkOH"
      }
    },
    {
      "cell_type": "code",
      "source": [
        "base['reps_upper'].hist()"
      ],
      "metadata": {
        "colab": {
          "base_uri": "https://localhost:8080/",
          "height": 282
        },
        "id": "Ndd7vy6E4Bo6",
        "outputId": "65918a82-e68d-47ad-b4ba-8ab50aaee9ec"
      },
      "execution_count": null,
      "outputs": [
        {
          "output_type": "execute_result",
          "data": {
            "text/plain": [
              "<matplotlib.axes._subplots.AxesSubplot at 0x7f3fc33681d0>"
            ]
          },
          "metadata": {},
          "execution_count": 48
        },
        {
          "output_type": "display_data",
          "data": {
            "text/plain": [
              "<Figure size 432x288 with 1 Axes>"
            ],
            "image/png": "[encoded data removed]"
          },
          "metadata": {
            "needs_background": "light"
          }
        }
      ]
    },
    {
      "cell_type": "markdown",
      "source": [
        "Este gráfico apresenta a distribuição do máximo de repetições para o cachorro aprender algo, de fato alguns são mais inteligentes, visto que há um valoume considerável a direita"
      ],
      "metadata": {
        "id": "7T-4r-Lb4t7-"
      }
    },
    {
      "cell_type": "code",
      "source": [
        "sns.scatterplot(x = 'reps_upper', y = 'height_low_inches', data=base)"
      ],
      "metadata": {
        "colab": {
          "base_uri": "https://localhost:8080/",
          "height": 299
        },
        "id": "SjgIpgX952Yz",
        "outputId": "ffdc61cb-4124-49d2-f76b-9e0cf9240bb1"
      },
      "execution_count": null,
      "outputs": [
        {
          "output_type": "execute_result",
          "data": {
            "text/plain": [
              "<matplotlib.axes._subplots.AxesSubplot at 0x7f3fc4331250>"
            ]
          },
          "metadata": {},
          "execution_count": 23
        },
        {
          "output_type": "display_data",
          "data": {
            "text/plain": [
              "<Figure size 432x288 with 1 Axes>"
            ],
            "image/png": "[encoded data removed]"
          },
          "metadata": {
            "needs_background": "light"
          }
        }
      ]
    },
    {
      "cell_type": "code",
      "source": [
        "sns.scatterplot(x = 'reps_lower', y = 'height_low_inches', data=base)"
      ],
      "metadata": {
        "colab": {
          "base_uri": "https://localhost:8080/",
          "height": 300
        },
        "id": "xWA326vJ5mQ9",
        "outputId": "bdab94a0-ac48-468b-c856-61172c50fa51"
      },
      "execution_count": null,
      "outputs": [
        {
          "output_type": "execute_result",
          "data": {
            "text/plain": [
              "<matplotlib.axes._subplots.AxesSubplot at 0x7f3fc4312a50>"
            ]
          },
          "metadata": {},
          "execution_count": 24
        },
        {
          "output_type": "display_data",
          "data": {
            "text/plain": [
              "<Figure size 432x288 with 1 Axes>"
            ],
            "image/png": "[encoded data removed]"
          },
          "metadata": {
            "needs_background": "light"
          }
        }
      ]
    },
    {
      "cell_type": "markdown",
      "source": [
        "Aparentemente o tamanho do cachorro possui alguma interferência na inteligencia, mas é necessário visualizar estes dados por outros prismas"
      ],
      "metadata": {
        "id": "Yfhk9KgB6D-7"
      }
    },
    {
      "cell_type": "markdown",
      "source": [
        "É necessário conhecer o ponto médio entre altura e peso"
      ],
      "metadata": {
        "id": "8kV4itq-D_ER"
      }
    },
    {
      "cell_type": "code",
      "source": [
        "bl['height'] = (base['height_low_inches']+base['height_high_inches'])/2\n",
        "bl['weight'] = (base['weight_low_lbs']+base['weight_high_lbs'])/2\n",
        "bl['reps'] = (base['reps_lower']+base['reps_upper'])/2\n",
        "base.head()"
      ],
      "metadata": {
        "colab": {
          "base_uri": "https://localhost:8080/",
          "height": 206
        },
        "id": "SqA9RTuQ6LyU",
        "outputId": "1f6088e7-e83b-4ebb-fb1d-ed4051c1142a"
      },
      "execution_count": null,
      "outputs": [
        {
          "output_type": "execute_result",
          "data": {
            "text/plain": [
              "                  Breed  height_low_inches  height_high_inches  \\\n",
              "0                 Akita               26.0                28.0   \n",
              "1     A0tolian Sheepdog               27.0                29.0   \n",
              "2  Bernese Mountain Dog               23.0                27.0   \n",
              "3            Bloodhound               24.0                26.0   \n",
              "4                Borzoi               26.0                28.0   \n",
              "\n",
              "   weight_low_lbs  weight_high_lbs  reps_lower  reps_upper  height  weight  \\\n",
              "0              80              120         1.0         4.0    27.0   100.0   \n",
              "1             100              150         1.0         4.0    28.0   125.0   \n",
              "2              85              110         1.0         4.0    25.0    97.5   \n",
              "3              80              120         1.0         4.0    25.0   100.0   \n",
              "4              70              100         1.0         4.0    27.0    85.0   \n",
              "\n",
              "   reps  \n",
              "0   2.5  \n",
              "1   2.5  \n",
              "2   2.5  \n",
              "3   2.5  \n",
              "4   2.5  "
            ],
            "text/html": [
              "\n",
              "  <div id=\"df-90f38ba7-6778-40d8-aad2-4ea8db5747a9\">\n",
              "    <div class=\"colab-df-container\">\n",
              "      <div>\n",
              "<style scoped>\n",
              "    .dataframe tbody tr th:only-of-type {\n",
              "        vertical-align: middle;\n",
              "    }\n",
              "\n",
              "    .dataframe tbody tr th {\n",
              "        vertical-align: top;\n",
              "    }\n",
              "\n",
              "    .dataframe thead th {\n",
              "        text-align: right;\n",
              "    }\n",
              "</style>\n",
              "<table border=\"1\" class=\"dataframe\">\n",
              "  <thead>\n",
              "    <tr style=\"text-align: right;\">\n",
              "      <th></th>\n",
              "      <th>Breed</th>\n",
              "      <th>height_low_inches</th>\n",
              "      <th>height_high_inches</th>\n",
              "      <th>weight_low_lbs</th>\n",
              "      <th>weight_high_lbs</th>\n",
              "      <th>reps_lower</th>\n",
              "      <th>reps_upper</th>\n",
              "      <th>height</th>\n",
              "      <th>weight</th>\n",
              "      <th>reps</th>\n",
              "    </tr>\n",
              "  </thead>\n",
              "  <tbody>\n",
              "    <tr>\n",
              "      <th>0</th>\n",
              "      <td>Akita</td>\n",
              "      <td>26.0</td>\n",
              "      <td>28.0</td>\n",
              "      <td>80</td>\n",
              "      <td>120</td>\n",
              "      <td>1.0</td>\n",
              "      <td>4.0</td>\n",
              "      <td>27.0</td>\n",
              "      <td>100.0</td>\n",
              "      <td>2.5</td>\n",
              "    </tr>\n",
              "    <tr>\n",
              "      <th>1</th>\n",
              "      <td>A0tolian Sheepdog</td>\n",
              "      <td>27.0</td>\n",
              "      <td>29.0</td>\n",
              "      <td>100</td>\n",
              "      <td>150</td>\n",
              "      <td>1.0</td>\n",
              "      <td>4.0</td>\n",
              "      <td>28.0</td>\n",
              "      <td>125.0</td>\n",
              "      <td>2.5</td>\n",
              "    </tr>\n",
              "    <tr>\n",
              "      <th>2</th>\n",
              "      <td>Bernese Mountain Dog</td>\n",
              "      <td>23.0</td>\n",
              "      <td>27.0</td>\n",
              "      <td>85</td>\n",
              "      <td>110</td>\n",
              "      <td>1.0</td>\n",
              "      <td>4.0</td>\n",
              "      <td>25.0</td>\n",
              "      <td>97.5</td>\n",
              "      <td>2.5</td>\n",
              "    </tr>\n",
              "    <tr>\n",
              "      <th>3</th>\n",
              "      <td>Bloodhound</td>\n",
              "      <td>24.0</td>\n",
              "      <td>26.0</td>\n",
              "      <td>80</td>\n",
              "      <td>120</td>\n",
              "      <td>1.0</td>\n",
              "      <td>4.0</td>\n",
              "      <td>25.0</td>\n",
              "      <td>100.0</td>\n",
              "      <td>2.5</td>\n",
              "    </tr>\n",
              "    <tr>\n",
              "      <th>4</th>\n",
              "      <td>Borzoi</td>\n",
              "      <td>26.0</td>\n",
              "      <td>28.0</td>\n",
              "      <td>70</td>\n",
              "      <td>100</td>\n",
              "      <td>1.0</td>\n",
              "      <td>4.0</td>\n",
              "      <td>27.0</td>\n",
              "      <td>85.0</td>\n",
              "      <td>2.5</td>\n",
              "    </tr>\n",
              "  </tbody>\n",
              "</table>\n",
              "</div>\n",
              "      <button class=\"colab-df-convert\" onclick=\"convertToInteractive('df-90f38ba7-6778-40d8-aad2-4ea8db5747a9')\"\n",
              "              title=\"Convert this dataframe to an interactive table.\"\n",
              "              style=\"display:none;\">\n",
              "        \n",
              "  <svg xmlns=\"http://www.w3.org/2000/svg\" height=\"24px\"viewBox=\"0 0 24 24\"\n",
              "       width=\"24px\">\n",
              "    <path d=\"M0 0h24v24H0V0z\" fill=\"none\"/>\n",
              "    <path d=\"M18.56 5.44l.94 2.06.94-2.06 2.06-.94-2.06-.94-.94-2.06-.94 2.06-2.06.94zm-11 1L8.5 8.5l.94-2.06 2.06-.94-2.06-.94L8.5 2.5l-.94 2.06-2.06.94zm10 10l.94 2.06.94-2.06 2.06-.94-2.06-.94-.94-2.06-.94 2.06-2.06.94z\"/><path d=\"M17.41 7.96l-1.37-1.37c-.4-.4-.92-.59-1.43-.59-.52 0-1.04.2-1.43.59L10.3 9.45l-7.72 7.72c-.78.78-.78 2.05 0 2.83L4 21.41c.39.39.9.59 1.41.59.51 0 1.02-.2 1.41-.59l7.78-7.78 2.81-2.81c.8-.78.8-2.07 0-2.86zM5.41 20L4 18.59l7.72-7.72 1.47 1.35L5.41 20z\"/>\n",
              "  </svg>\n",
              "      </button>\n",
              "      \n",
              "  <style>\n",
              "    .colab-df-container {\n",
              "      display:flex;\n",
              "      flex-wrap:wrap;\n",
              "      gap: 12px;\n",
              "    }\n",
              "\n",
              "    .colab-df-convert {\n",
              "      background-color: #E8F0FE;\n",
              "      border: none;\n",
              "      border-radius: 50%;\n",
              "      cursor: pointer;\n",
              "      display: none;\n",
              "      fill: #1967D2;\n",
              "      height: 32px;\n",
              "      padding: 0 0 0 0;\n",
              "      width: 32px;\n",
              "    }\n",
              "\n",
              "    .colab-df-convert:hover {\n",
              "      background-color: #E2EBFA;\n",
              "      box-shadow: 0px 1px 2px rgba(60, 64, 67, 0.3), 0px 1px 3px 1px rgba(60, 64, 67, 0.15);\n",
              "      fill: #174EA6;\n",
              "    }\n",
              "\n",
              "    [theme=dark] .colab-df-convert {\n",
              "      background-color: #3B4455;\n",
              "      fill: #D2E3FC;\n",
              "    }\n",
              "\n",
              "    [theme=dark] .colab-df-convert:hover {\n",
              "      background-color: #434B5C;\n",
              "      box-shadow: 0px 1px 3px 1px rgba(0, 0, 0, 0.15);\n",
              "      filter: drop-shadow(0px 1px 2px rgba(0, 0, 0, 0.3));\n",
              "      fill: #FFFFFF;\n",
              "    }\n",
              "  </style>\n",
              "\n",
              "      <script>\n",
              "        const buttonEl =\n",
              "          document.querySelector('#df-90f38ba7-6778-40d8-aad2-4ea8db5747a9 button.colab-df-convert');\n",
              "        buttonEl.style.display =\n",
              "          google.colab.kernel.accessAllowed ? 'block' : 'none';\n",
              "\n",
              "        async function convertToInteractive(key) {\n",
              "          const element = document.querySelector('#df-90f38ba7-6778-40d8-aad2-4ea8db5747a9');\n",
              "          const dataTable =\n",
              "            await google.colab.kernel.invokeFunction('convertToInteractive',\n",
              "                                                     [key], {});\n",
              "          if (!dataTable) return;\n",
              "\n",
              "          const docLinkHtml = 'Like what you see? Visit the ' +\n",
              "            '<a target=\"_blank\" href=https://colab.research.google.com/notebooks/data_table.ipynb>data table notebook</a>'\n",
              "            + ' to learn more about interactive tables.';\n",
              "          element.innerHTML = '';\n",
              "          dataTable['output_type'] = 'display_data';\n",
              "          await google.colab.output.renderOutput(dataTable, element);\n",
              "          const docLink = document.createElement('div');\n",
              "          docLink.innerHTML = docLinkHtml;\n",
              "          element.appendChild(docLink);\n",
              "        }\n",
              "      </script>\n",
              "    </div>\n",
              "  </div>\n",
              "  "
            ]
          },
          "metadata": {},
          "execution_count": 87
        }
      ]
    },
    {
      "cell_type": "code",
      "source": [
        "sns.regplot(x = 'reps', y = 'height', data=bl)"
      ],
      "metadata": {
        "colab": {
          "base_uri": "https://localhost:8080/",
          "height": 296
        },
        "id": "HJ12WpmtFgEF",
        "outputId": "1db958bb-2b24-48fa-a707-b3e8e235d291"
      },
      "execution_count": null,
      "outputs": [
        {
          "output_type": "execute_result",
          "data": {
            "text/plain": [
              "<matplotlib.axes._subplots.AxesSubplot at 0x7f3fc2eeb850>"
            ]
          },
          "metadata": {},
          "execution_count": 75
        },
        {
          "output_type": "display_data",
          "data": {
            "text/plain": [
              "<Figure size 432x288 with 1 Axes>"
            ],
            "image/png": "[encoded data removed]"
          },
          "metadata": {
            "needs_background": "light"
          }
        }
      ]
    },
    {
      "cell_type": "code",
      "source": [
        "sns.regplot(x = 'reps', y = 'weight', data=bl)"
      ],
      "metadata": {
        "colab": {
          "base_uri": "https://localhost:8080/",
          "height": 296
        },
        "id": "QB4Xr_aUEXR1",
        "outputId": "911ec69e-18c6-4b6a-a636-0cada0eb4133"
      },
      "execution_count": null,
      "outputs": [
        {
          "output_type": "execute_result",
          "data": {
            "text/plain": [
              "<matplotlib.axes._subplots.AxesSubplot at 0x7f3fc2eb24d0>"
            ]
          },
          "metadata": {},
          "execution_count": 76
        },
        {
          "output_type": "display_data",
          "data": {
            "text/plain": [
              "<Figure size 432x288 with 1 Axes>"
            ],
            "image/png": "[encoded data removed]"
          },
          "metadata": {
            "needs_background": "light"
          }
        }
      ]
    },
    {
      "cell_type": "markdown",
      "source": [
        "É possível concluir que existe uma pequena relação, entre a velocidade de aprendizado e o tamanho do cachorro. Visto que a distribuição consegue se aproximar minimamente da linha de regressão "
      ],
      "metadata": {
        "id": "i_Fe7r0FIddu"
      }
    },
    {
      "cell_type": "markdown",
      "source": [
        "O que estou tentando entender é :\n",
        "Os cachorres maiores são de fato mais inteligentes ? "
      ],
      "metadata": {
        "id": "73tyX8DJIxxQ"
      }
    },
    {
      "cell_type": "markdown",
      "source": [
        "Abaixo crio uma pontuação ficticia entre a relação de altura e peso. Desta forma posso separar os dados"
      ],
      "metadata": {
        "id": "3yT50yjFj--o"
      }
    },
    {
      "cell_type": "code",
      "source": [
        "bl['hw'] = (bl['height'] + bl['weight'])/2\n",
        "bl['hw'].head()"
      ],
      "metadata": {
        "colab": {
          "base_uri": "https://localhost:8080/"
        },
        "id": "375fhGYCJylb",
        "outputId": "a502211e-3b44-4cb8-fed8-a3450dce03a8"
      },
      "execution_count": null,
      "outputs": [
        {
          "output_type": "execute_result",
          "data": {
            "text/plain": [
              "0    63.50\n",
              "1    76.50\n",
              "2    61.25\n",
              "3    62.50\n",
              "4    56.00\n",
              "Name: hw, dtype: float64"
            ]
          },
          "metadata": {},
          "execution_count": 101
        }
      ]
    },
    {
      "cell_type": "markdown",
      "source": [
        "Divido o tamanho dos cachorros em dois grupos, os que estão respectivamente, acima e abaixo da média."
      ],
      "metadata": {
        "id": "AoM07PW9kOlz"
      }
    },
    {
      "cell_type": "code",
      "source": [
        "x = bl.loc[bl['hw'] > 34.44]\n",
        "y = bl.loc[bl['hw'] < 34.44]\n",
        "x['hw']"
      ],
      "metadata": {
        "colab": {
          "base_uri": "https://localhost:8080/"
        },
        "id": "D90CBh82R_i7",
        "outputId": "d5d99e49-833b-4fde-890a-c20c887bb602"
      },
      "execution_count": null,
      "outputs": [
        {
          "output_type": "execute_result",
          "data": {
            "text/plain": [
              "0     63.50\n",
              "1     76.50\n",
              "2     61.25\n",
              "3     62.50\n",
              "4     56.00\n",
              "      ...  \n",
              "89    39.00\n",
              "90    39.50\n",
              "91    35.75\n",
              "96    40.25\n",
              "98    37.25\n",
              "Name: hw, Length: 74, dtype: float64"
            ]
          },
          "metadata": {},
          "execution_count": 163
        }
      ]
    },
    {
      "cell_type": "markdown",
      "source": [
        "Verifico a distriuição dos dois grupos"
      ],
      "metadata": {
        "id": "eEurnndEkbEP"
      }
    },
    {
      "cell_type": "code",
      "source": [
        "x['hw'].hist()"
      ],
      "metadata": {
        "colab": {
          "base_uri": "https://localhost:8080/",
          "height": 282
        },
        "id": "wdzt2IPGf_PZ",
        "outputId": "0d9d5e11-ee4d-4a12-9fb5-41ef1a2c20e3"
      },
      "execution_count": null,
      "outputs": [
        {
          "output_type": "execute_result",
          "data": {
            "text/plain": [
              "<matplotlib.axes._subplots.AxesSubplot at 0x7f3fbe9eaed0>"
            ]
          },
          "metadata": {},
          "execution_count": 167
        },
        {
          "output_type": "display_data",
          "data": {
            "text/plain": [
              "<Figure size 432x288 with 1 Axes>"
            ],
            "image/png": "[encoded data removed]"
          },
          "metadata": {
            "needs_background": "light"
          }
        }
      ]
    },
    {
      "cell_type": "code",
      "source": [
        "y['hw'].hist()"
      ],
      "metadata": {
        "colab": {
          "base_uri": "https://localhost:8080/",
          "height": 282
        },
        "id": "8kfRlDEzgIgT",
        "outputId": "6c9f33ce-b058-41fa-9b7e-88afb18f2c85"
      },
      "execution_count": null,
      "outputs": [
        {
          "output_type": "execute_result",
          "data": {
            "text/plain": [
              "<matplotlib.axes._subplots.AxesSubplot at 0x7f3fbe8fdc50>"
            ]
          },
          "metadata": {},
          "execution_count": 168
        },
        {
          "output_type": "display_data",
          "data": {
            "text/plain": [
              "<Figure size 432x288 with 1 Axes>"
            ],
            "image/png": "[encoded data removed]"
          },
          "metadata": {
            "needs_background": "light"
          }
        }
      ]
    },
    {
      "cell_type": "markdown",
      "source": [
        "Com estes dados posso fazer o teste de hipotese, partindo da premisa popular que cachorros maiores são mais inteligentes, está é a hipótese nula"
      ],
      "metadata": {
        "id": "9ujJfiWqkh2-"
      }
    },
    {
      "cell_type": "code",
      "source": [
        "from scipy.stats import mannwhitneyu\n",
        "res = mannwhitneyu(x['hw'], y['hw'], alternative='greater', method='exact')\n",
        "print(res)"
      ],
      "metadata": {
        "colab": {
          "base_uri": "https://localhost:8080/"
        },
        "id": "q51qiEQBTuFJ",
        "outputId": "0be9f6e0-326a-499f-d49e-5c88ae41a4e8"
      },
      "execution_count": null,
      "outputs": [
        {
          "output_type": "stream",
          "name": "stdout",
          "text": [
            "MannwhitneyuResult(statistic=5624.0, pvalue=1.0916473531708763e-44)\n"
          ]
        }
      ]
    },
    {
      "cell_type": "code",
      "source": [
        "res = mannwhitneyu(x['hw'], y['hw'], alternative='greater', method='asymptotic')\n",
        "print(res)"
      ],
      "metadata": {
        "colab": {
          "base_uri": "https://localhost:8080/"
        },
        "id": "9iuck9x8gowU",
        "outputId": "14224ad5-ea4a-4e99-8a6e-b288500ed82b"
      },
      "execution_count": null,
      "outputs": [
        {
          "output_type": "stream",
          "name": "stdout",
          "text": [
            "MannwhitneyuResult(statistic=5624.0, pvalue=2.0705844801879025e-26)\n"
          ]
        }
      ]
    },
    {
      "cell_type": "markdown",
      "source": [
        "Efetuando o teste, podemos concluir que não há evidências estatisticas para a hipótese alternativa, ou seja, os cachorros menores provavelmente possuem menos inteligência"
      ],
      "metadata": {
        "id": "up5NLOGjhbRD"
      }
    }
  ]
}